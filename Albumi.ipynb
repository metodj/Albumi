{
 "cells": [
  {
   "cell_type": "code",
   "execution_count": 43,
   "metadata": {
    "collapsed": false
   },
   "outputs": [],
   "source": [
    "import pandas as pd\n",
    "import matplotlib.pyplot as plt\n",
    "\n",
    "albumi = pd.read_csv('tabela.csv')\n",
    "pd.options.display.max_rows = 15\n",
    "\n",
    "%matplotlib inline\n",
    "\n",
    "pd.set_option('display.mpl_style', 'default') \n",
    "plt.rcParams['figure.figsize'] = (15, 5)"
   ]
  },
  {
   "cell_type": "markdown",
   "metadata": {},
   "source": [
    "Zajete podatke sem zbral v spodnji tabeli. "
   ]
  },
  {
   "cell_type": "code",
   "execution_count": 4,
   "metadata": {
    "collapsed": false
   },
   "outputs": [
    {
     "data": {
      "text/html": [
       "<div>\n",
       "<table border=\"1\" class=\"dataframe\">\n",
       "  <thead>\n",
       "    <tr style=\"text-align: right;\">\n",
       "      <th></th>\n",
       "      <th>naslov</th>\n",
       "      <th>avtor</th>\n",
       "      <th>ocena_kritikov</th>\n",
       "      <th>leto</th>\n",
       "      <th>zanr</th>\n",
       "      <th>ocena_ljudi</th>\n",
       "    </tr>\n",
       "  </thead>\n",
       "  <tbody>\n",
       "    <tr>\n",
       "      <th>0</th>\n",
       "      <td>Ten Freedom Summers</td>\n",
       "      <td>Wadada Leo Smith</td>\n",
       "      <td>99</td>\n",
       "      <td>2012</td>\n",
       "      <td>['Jazz']</td>\n",
       "      <td>5.0</td>\n",
       "    </tr>\n",
       "    <tr>\n",
       "      <th>1</th>\n",
       "      <td>SMiLE</td>\n",
       "      <td>Brian Wilson</td>\n",
       "      <td>97</td>\n",
       "      <td>2004</td>\n",
       "      <td>['Rock', 'Pop']</td>\n",
       "      <td>8.0</td>\n",
       "    </tr>\n",
       "    <tr>\n",
       "      <th>2</th>\n",
       "      <td>Van Lear Rose</td>\n",
       "      <td>Loretta Lynn</td>\n",
       "      <td>97</td>\n",
       "      <td>2004</td>\n",
       "      <td>['Country']</td>\n",
       "      <td>8.7</td>\n",
       "    </tr>\n",
       "    <tr>\n",
       "      <th>3</th>\n",
       "      <td>To Pimp A Butterfly</td>\n",
       "      <td>Kendrick Lamar</td>\n",
       "      <td>96</td>\n",
       "      <td>2015</td>\n",
       "      <td>['Rap']</td>\n",
       "      <td>9.0</td>\n",
       "    </tr>\n",
       "    <tr>\n",
       "      <th>4</th>\n",
       "      <td>Histoire de Melody Nelson</td>\n",
       "      <td>Serge Gainsbourg</td>\n",
       "      <td>96</td>\n",
       "      <td>2009</td>\n",
       "      <td>['Rock', 'Pop']</td>\n",
       "      <td>8.7</td>\n",
       "    </tr>\n",
       "    <tr>\n",
       "      <th>5</th>\n",
       "      <td>Stankonia</td>\n",
       "      <td>Outkast</td>\n",
       "      <td>95</td>\n",
       "      <td>2000</td>\n",
       "      <td>['Rap']</td>\n",
       "      <td>8.9</td>\n",
       "    </tr>\n",
       "    <tr>\n",
       "      <th>...</th>\n",
       "      <td>...</td>\n",
       "      <td>...</td>\n",
       "      <td>...</td>\n",
       "      <td>...</td>\n",
       "      <td>...</td>\n",
       "      <td>...</td>\n",
       "    </tr>\n",
       "    <tr>\n",
       "      <th>1374</th>\n",
       "      <td>Parallax</td>\n",
       "      <td>Atlas Sound</td>\n",
       "      <td>82</td>\n",
       "      <td>2011</td>\n",
       "      <td>['Pop/Rock', 'Alternative/Indie', 'Rock', 'Alt...</td>\n",
       "      <td>8.5</td>\n",
       "    </tr>\n",
       "    <tr>\n",
       "      <th>1375</th>\n",
       "      <td>Jet Plane And Oxbow</td>\n",
       "      <td>Shearwater</td>\n",
       "      <td>82</td>\n",
       "      <td>2016</td>\n",
       "      <td>['Pop/Rock', 'Indie/Alternative']</td>\n",
       "      <td>7.6</td>\n",
       "    </tr>\n",
       "    <tr>\n",
       "      <th>1376</th>\n",
       "      <td>Lodestar</td>\n",
       "      <td>Shirley Collins</td>\n",
       "      <td>82</td>\n",
       "      <td>2016</td>\n",
       "      <td>['Folk']</td>\n",
       "      <td>8.4</td>\n",
       "    </tr>\n",
       "    <tr>\n",
       "      <th>1377</th>\n",
       "      <td>Familiars</td>\n",
       "      <td>The Antlers</td>\n",
       "      <td>82</td>\n",
       "      <td>2014</td>\n",
       "      <td>['Pop/Rock', 'Alternative/Indie', 'Rock', 'Alt...</td>\n",
       "      <td>8.2</td>\n",
       "    </tr>\n",
       "    <tr>\n",
       "      <th>1378</th>\n",
       "      <td>Running out of Love</td>\n",
       "      <td>The Radio Dept.</td>\n",
       "      <td>82</td>\n",
       "      <td>2016</td>\n",
       "      <td>['Electronic', 'Pop/Rock', 'Alternative/Indie'...</td>\n",
       "      <td>7.3</td>\n",
       "    </tr>\n",
       "    <tr>\n",
       "      <th>1379</th>\n",
       "      <td>Field Report</td>\n",
       "      <td>Field Report</td>\n",
       "      <td>82</td>\n",
       "      <td>2012</td>\n",
       "      <td>['Alternative/Indie', 'Rock', 'Indie', 'Rock',...</td>\n",
       "      <td>7.5</td>\n",
       "    </tr>\n",
       "  </tbody>\n",
       "</table>\n",
       "<p>1380 rows × 6 columns</p>\n",
       "</div>"
      ],
      "text/plain": [
       "                         naslov             avtor  ocena_kritikov  leto  \\\n",
       "0           Ten Freedom Summers  Wadada Leo Smith              99  2012   \n",
       "1                         SMiLE     Brian Wilson               97  2004   \n",
       "2                 Van Lear Rose      Loretta Lynn              97  2004   \n",
       "3           To Pimp A Butterfly    Kendrick Lamar              96  2015   \n",
       "4     Histoire de Melody Nelson  Serge Gainsbourg              96  2009   \n",
       "5                     Stankonia           Outkast              95  2000   \n",
       "...                         ...               ...             ...   ...   \n",
       "1374                   Parallax       Atlas Sound              82  2011   \n",
       "1375        Jet Plane And Oxbow        Shearwater              82  2016   \n",
       "1376                   Lodestar   Shirley Collins              82  2016   \n",
       "1377                  Familiars       The Antlers              82  2014   \n",
       "1378        Running out of Love   The Radio Dept.              82  2016   \n",
       "1379               Field Report      Field Report              82  2012   \n",
       "\n",
       "                                                   zanr  ocena_ljudi  \n",
       "0                                              ['Jazz']          5.0  \n",
       "1                                       ['Rock', 'Pop']          8.0  \n",
       "2                                           ['Country']          8.7  \n",
       "3                                               ['Rap']          9.0  \n",
       "4                                       ['Rock', 'Pop']          8.7  \n",
       "5                                               ['Rap']          8.9  \n",
       "...                                                 ...          ...  \n",
       "1374  ['Pop/Rock', 'Alternative/Indie', 'Rock', 'Alt...          8.5  \n",
       "1375                  ['Pop/Rock', 'Indie/Alternative']          7.6  \n",
       "1376                                           ['Folk']          8.4  \n",
       "1377  ['Pop/Rock', 'Alternative/Indie', 'Rock', 'Alt...          8.2  \n",
       "1378  ['Electronic', 'Pop/Rock', 'Alternative/Indie'...          7.3  \n",
       "1379  ['Alternative/Indie', 'Rock', 'Indie', 'Rock',...          7.5  \n",
       "\n",
       "[1380 rows x 6 columns]"
      ]
     },
     "execution_count": 4,
     "metadata": {},
     "output_type": "execute_result"
    }
   ],
   "source": [
    "albumi"
   ]
  },
  {
   "cell_type": "markdown",
   "metadata": {},
   "source": [
    "Svojim podatkom bom dodal še en stolpec 'razlika'. V njem bom izračunal razliko med oceno kritikov in poslušalcev. Na ta način bom kasneje lahko primerjal, pri katerih albumih je prišlo do največjih razlik. "
   ]
  },
  {
   "cell_type": "code",
   "execution_count": 28,
   "metadata": {
    "collapsed": false
   },
   "outputs": [
    {
     "data": {
      "text/html": [
       "<div>\n",
       "<table border=\"1\" class=\"dataframe\">\n",
       "  <thead>\n",
       "    <tr style=\"text-align: right;\">\n",
       "      <th></th>\n",
       "      <th>naslov</th>\n",
       "      <th>avtor</th>\n",
       "      <th>ocena_kritikov</th>\n",
       "      <th>leto</th>\n",
       "      <th>zanr</th>\n",
       "      <th>ocena_ljudi</th>\n",
       "      <th>razlika</th>\n",
       "    </tr>\n",
       "  </thead>\n",
       "  <tbody>\n",
       "    <tr>\n",
       "      <th>0</th>\n",
       "      <td>Ten Freedom Summers</td>\n",
       "      <td>Wadada Leo Smith</td>\n",
       "      <td>99</td>\n",
       "      <td>2012</td>\n",
       "      <td>['Jazz']</td>\n",
       "      <td>5.0</td>\n",
       "      <td>49.0</td>\n",
       "    </tr>\n",
       "    <tr>\n",
       "      <th>13</th>\n",
       "      <td>My Dusty Road</td>\n",
       "      <td>Woody Guthrie</td>\n",
       "      <td>93</td>\n",
       "      <td>2009</td>\n",
       "      <td>['Folk', 'Singer-Songwriter']</td>\n",
       "      <td>5.0</td>\n",
       "      <td>43.0</td>\n",
       "    </tr>\n",
       "    <tr>\n",
       "      <th>59</th>\n",
       "      <td>The Fade in Time</td>\n",
       "      <td>Sam Lee</td>\n",
       "      <td>89</td>\n",
       "      <td>2015</td>\n",
       "      <td>['Folk']</td>\n",
       "      <td>5.1</td>\n",
       "      <td>38.0</td>\n",
       "    </tr>\n",
       "    <tr>\n",
       "      <th>72</th>\n",
       "      <td>From Kinshasa</td>\n",
       "      <td>Mbongwana Star</td>\n",
       "      <td>88</td>\n",
       "      <td>2015</td>\n",
       "      <td>['International']</td>\n",
       "      <td>5.2</td>\n",
       "      <td>36.0</td>\n",
       "    </tr>\n",
       "    <tr>\n",
       "      <th>104</th>\n",
       "      <td>Upland Stories</td>\n",
       "      <td>Robbie Fulks</td>\n",
       "      <td>87</td>\n",
       "      <td>2016</td>\n",
       "      <td>['Country', 'Folk', 'Pop/Rock']</td>\n",
       "      <td>3.7</td>\n",
       "      <td>50.0</td>\n",
       "    </tr>\n",
       "    <tr>\n",
       "      <th>254</th>\n",
       "      <td>Eric Bachmann</td>\n",
       "      <td>Eric Bachmann</td>\n",
       "      <td>81</td>\n",
       "      <td>2016</td>\n",
       "      <td>['Pop/Rock', 'Alternative/Indie', 'Rock', 'Ind...</td>\n",
       "      <td>4.6</td>\n",
       "      <td>35.0</td>\n",
       "    </tr>\n",
       "    <tr>\n",
       "      <th>865</th>\n",
       "      <td>Without a Net</td>\n",
       "      <td>Wayne Shorter</td>\n",
       "      <td>86</td>\n",
       "      <td>2013</td>\n",
       "      <td>['Jazz']</td>\n",
       "      <td>5.3</td>\n",
       "      <td>33.0</td>\n",
       "    </tr>\n",
       "    <tr>\n",
       "      <th>1199</th>\n",
       "      <td>The Narrows</td>\n",
       "      <td>Grant-Lee Philips</td>\n",
       "      <td>83</td>\n",
       "      <td>2016</td>\n",
       "      <td>['Americana', 'Pop/Rock', 'Adult', 'Alternativ...</td>\n",
       "      <td>4.0</td>\n",
       "      <td>43.0</td>\n",
       "    </tr>\n",
       "  </tbody>\n",
       "</table>\n",
       "</div>"
      ],
      "text/plain": [
       "                   naslov              avtor  ocena_kritikov  leto  \\\n",
       "0     Ten Freedom Summers   Wadada Leo Smith              99  2012   \n",
       "13          My Dusty Road      Woody Guthrie              93  2009   \n",
       "59       The Fade in Time            Sam Lee              89  2015   \n",
       "72          From Kinshasa     Mbongwana Star              88  2015   \n",
       "104        Upland Stories       Robbie Fulks              87  2016   \n",
       "254         Eric Bachmann      Eric Bachmann              81  2016   \n",
       "865         Without a Net      Wayne Shorter              86  2013   \n",
       "1199          The Narrows  Grant-Lee Philips              83  2016   \n",
       "\n",
       "                                                   zanr  ocena_ljudi  razlika  \n",
       "0                                              ['Jazz']          5.0     49.0  \n",
       "13                        ['Folk', 'Singer-Songwriter']          5.0     43.0  \n",
       "59                                             ['Folk']          5.1     38.0  \n",
       "72                                    ['International']          5.2     36.0  \n",
       "104                     ['Country', 'Folk', 'Pop/Rock']          3.7     50.0  \n",
       "254   ['Pop/Rock', 'Alternative/Indie', 'Rock', 'Ind...          4.6     35.0  \n",
       "865                                            ['Jazz']          5.3     33.0  \n",
       "1199  ['Americana', 'Pop/Rock', 'Adult', 'Alternativ...          4.0     43.0  "
      ]
     },
     "execution_count": 28,
     "metadata": {},
     "output_type": "execute_result"
    }
   ],
   "source": [
    "albumi['razlika'] = albumi['ocena_kritikov'] - albumi['ocena_ljudi'] * 10\n",
    "albumi[albumi.razlika > 30]"
   ]
  },
  {
   "cell_type": "markdown",
   "metadata": {
    "collapsed": false
   },
   "source": [
    "Sedaj lahko na hitro pogledamo koliko albumov so kritiki ocenili z višjo oceno kot poslušalci in kakšna je bila povprečna razlika obeh ocen. "
   ]
  },
  {
   "cell_type": "code",
   "execution_count": 17,
   "metadata": {
    "collapsed": false
   },
   "outputs": [
    {
     "data": {
      "text/plain": [
       "546"
      ]
     },
     "execution_count": 17,
     "metadata": {},
     "output_type": "execute_result"
    }
   ],
   "source": [
    "len(albumi[albumi.razlika > 0])"
   ]
  },
  {
   "cell_type": "code",
   "execution_count": 16,
   "metadata": {
    "collapsed": false
   },
   "outputs": [
    {
     "data": {
      "text/plain": [
       "5.21"
      ]
     },
     "execution_count": 16,
     "metadata": {},
     "output_type": "execute_result"
    }
   ],
   "source": [
    "round(sum(abs(albumi['razlika'])) / 1380, 2)"
   ]
  },
  {
   "cell_type": "markdown",
   "metadata": {},
   "source": [
    "Oglejmo si povprečno oceno poslušalcev po letih in prikažimo to v grafu."
   ]
  },
  {
   "cell_type": "code",
   "execution_count": 29,
   "metadata": {
    "collapsed": false
   },
   "outputs": [
    {
     "data": {
      "text/plain": [
       "<matplotlib.axes._subplots.AxesSubplot at 0xae5d5c0>"
      ]
     },
     "execution_count": 29,
     "metadata": {},
     "output_type": "execute_result"
    },
    {
     "data": {
      "image/png": "[encoded data removed]",
      "text/plain": [
       "<matplotlib.figure.Figure at 0x414f0f0>"
      ]
     },
     "metadata": {},
     "output_type": "display_data"
    }
   ],
   "source": [
    "albumi_po_letih = albumi.groupby('leto')\n",
    "albumi_po_letih['ocena_ljudi'].mean().plot()"
   ]
  },
  {
   "cell_type": "markdown",
   "metadata": {},
   "source": [
    "Da bomo preverili verodostojnost teh podatkov poglejmo še koliko albumov je bilo posnetih v posameznem letu. "
   ]
  },
  {
   "cell_type": "code",
   "execution_count": 30,
   "metadata": {
    "collapsed": false
   },
   "outputs": [
    {
     "data": {
      "text/plain": [
       "<matplotlib.axes._subplots.AxesSubplot at 0xaf3d630>"
      ]
     },
     "execution_count": 30,
     "metadata": {},
     "output_type": "execute_result"
    },
    {
     "data": {
      "image/png": "[encoded data removed]",
      "text/plain": [
       "<matplotlib.figure.Figure at 0xae497b8>"
      ]
     },
     "metadata": {},
     "output_type": "display_data"
    }
   ],
   "source": [
    "albumi_po_letih.count()['naslov'].plot(kind='bar')"
   ]
  },
  {
   "cell_type": "markdown",
   "metadata": {},
   "source": [
    "Iz zgornjega grafa vidimo, da je lahko visoka ocena albumov iz začetka tisočletja povezana tudi s tem, da je v zajeti bazi podatkov majhno število albumov iz tega obdobja."
   ]
  },
  {
   "cell_type": "markdown",
   "metadata": {},
   "source": [
    "Oglejmo si najbolj popularne avtorje (tiste z največ albumi v naši podatkovni bazi)."
   ]
  },
  {
   "cell_type": "code",
   "execution_count": 44,
   "metadata": {
    "collapsed": false
   },
   "outputs": [
    {
     "data": {
      "text/plain": [
       "avtor\n",
       "Spoon                          6\n",
       "Low                            6\n",
       "Sleater-Kinney                 5\n",
       "Nas                            5\n",
       "Various Artists                5\n",
       "Bob Dylan                      5\n",
       "Kanye West                     4\n",
       "Sufjan Stevens                 4\n",
       "Mount Eerie                    4\n",
       "LCD Soundsystem                4\n",
       "Thee Oh Sees                   4\n",
       "Miranda Lambert                4\n",
       "Godspeed You! Black Emperor    4\n",
       "Elbow                          4\n",
       "The Dillinger Escape Plan      4\n",
       "Name: naslov, dtype: int64"
      ]
     },
     "execution_count": 44,
     "metadata": {},
     "output_type": "execute_result"
    }
   ],
   "source": [
    "albumi_po_avtorjih = albumi.groupby('avtor')\n",
    "albumi_po_avtorjih.count()['naslov'].sort_values(ascending=False)[:15]"
   ]
  },
  {
   "cell_type": "code",
   "execution_count": null,
   "metadata": {
    "collapsed": true
   },
   "outputs": [],
   "source": []
  }
 ],
 "metadata": {
  "kernelspec": {
   "display_name": "Python 2",
   "language": "python",
   "name": "python2"
  },
  "language_info": {
   "codemirror_mode": {
    "name": "ipython",
    "version": 2
   },
   "file_extension": ".py",
   "mimetype": "text/x-python",
   "name": "python",
   "nbconvert_exporter": "python",
   "pygments_lexer": "ipython2",
   "version": "2.7.11"
  }
 },
 "nbformat": 4,
 "nbformat_minor": 0
}
