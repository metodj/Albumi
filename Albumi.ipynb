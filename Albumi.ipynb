{
 "cells": [
  {
   "cell_type": "code",
   "execution_count": 4,
   "metadata": {
    "collapsed": false
   },
   "outputs": [
    {
     "name": "stderr",
     "output_type": "stream",
     "text": [
      "C:\\Users\\metodjazbec\\User\\lib\\site-packages\\IPython\\core\\interactiveshell.py:2885: FutureWarning: \n",
      "mpl_style had been deprecated and will be removed in a future version.\n",
      "Use `matplotlib.pyplot.style.use` instead.\n",
      "\n",
      "  exec(code_obj, self.user_global_ns, self.user_ns)\n"
     ]
    }
   ],
   "source": [
    "import pandas as pd\n",
    "import matplotlib.pyplot as plt\n",
    "\n",
    "albumi = pd.read_csv('tabela.csv', index_col = 'id')\n",
    "zanri = pd.read_csv('zanri.csv')\n",
    "pd.options.display.max_rows = 15\n",
    "\n",
    "%matplotlib inline\n",
    "\n",
    "pd.set_option('display.mpl_style', 'default') \n",
    "plt.rcParams['figure.figsize'] = (15, 5)"
   ]
  },
  {
   "cell_type": "markdown",
   "metadata": {},
   "source": [
    "Zajete podatke sem zbral v spodnji tabeli. "
   ]
  },
  {
   "cell_type": "code",
   "execution_count": 5,
   "metadata": {
    "collapsed": false
   },
   "outputs": [
    {
     "data": {
      "text/html": [
       "<div>\n",
       "<table border=\"1\" class=\"dataframe\">\n",
       "  <thead>\n",
       "    <tr style=\"text-align: right;\">\n",
       "      <th></th>\n",
       "      <th>naslov</th>\n",
       "      <th>avtor</th>\n",
       "      <th>ocena_kritikov</th>\n",
       "      <th>leto</th>\n",
       "      <th>ocena_ljudi</th>\n",
       "    </tr>\n",
       "    <tr>\n",
       "      <th>id</th>\n",
       "      <th></th>\n",
       "      <th></th>\n",
       "      <th></th>\n",
       "      <th></th>\n",
       "      <th></th>\n",
       "    </tr>\n",
       "  </thead>\n",
       "  <tbody>\n",
       "    <tr>\n",
       "      <th>1</th>\n",
       "      <td>Ten Freedom Summers</td>\n",
       "      <td>Wadada Leo Smith</td>\n",
       "      <td>99</td>\n",
       "      <td>2012</td>\n",
       "      <td>50</td>\n",
       "    </tr>\n",
       "    <tr>\n",
       "      <th>2</th>\n",
       "      <td>SMiLE</td>\n",
       "      <td>Brian Wilson</td>\n",
       "      <td>97</td>\n",
       "      <td>2004</td>\n",
       "      <td>80</td>\n",
       "    </tr>\n",
       "    <tr>\n",
       "      <th>3</th>\n",
       "      <td>Van Lear Rose</td>\n",
       "      <td>Loretta Lynn</td>\n",
       "      <td>97</td>\n",
       "      <td>2004</td>\n",
       "      <td>87</td>\n",
       "    </tr>\n",
       "    <tr>\n",
       "      <th>4</th>\n",
       "      <td>To Pimp A Butterfly</td>\n",
       "      <td>Kendrick Lamar</td>\n",
       "      <td>96</td>\n",
       "      <td>2015</td>\n",
       "      <td>90</td>\n",
       "    </tr>\n",
       "    <tr>\n",
       "      <th>5</th>\n",
       "      <td>Histoire de Melody Nelson</td>\n",
       "      <td>Serge Gainsbourg</td>\n",
       "      <td>96</td>\n",
       "      <td>2009</td>\n",
       "      <td>87</td>\n",
       "    </tr>\n",
       "    <tr>\n",
       "      <th>6</th>\n",
       "      <td>Stankonia</td>\n",
       "      <td>Outkast</td>\n",
       "      <td>95</td>\n",
       "      <td>2000</td>\n",
       "      <td>89</td>\n",
       "    </tr>\n",
       "    <tr>\n",
       "      <th>7</th>\n",
       "      <td>Black Messiah</td>\n",
       "      <td>D'Angelo</td>\n",
       "      <td>95</td>\n",
       "      <td>2014</td>\n",
       "      <td>87</td>\n",
       "    </tr>\n",
       "    <tr>\n",
       "      <th>...</th>\n",
       "      <td>...</td>\n",
       "      <td>...</td>\n",
       "      <td>...</td>\n",
       "      <td>...</td>\n",
       "      <td>...</td>\n",
       "    </tr>\n",
       "    <tr>\n",
       "      <th>1393</th>\n",
       "      <td>Wild Mountain Nation</td>\n",
       "      <td>Blitzen Trapper</td>\n",
       "      <td>82</td>\n",
       "      <td>2007</td>\n",
       "      <td>83</td>\n",
       "    </tr>\n",
       "    <tr>\n",
       "      <th>1394</th>\n",
       "      <td>Parallax</td>\n",
       "      <td>Atlas Sound</td>\n",
       "      <td>82</td>\n",
       "      <td>2011</td>\n",
       "      <td>85</td>\n",
       "    </tr>\n",
       "    <tr>\n",
       "      <th>1395</th>\n",
       "      <td>Jet Plane And Oxbow</td>\n",
       "      <td>Shearwater</td>\n",
       "      <td>82</td>\n",
       "      <td>2016</td>\n",
       "      <td>76</td>\n",
       "    </tr>\n",
       "    <tr>\n",
       "      <th>1396</th>\n",
       "      <td>Lodestar</td>\n",
       "      <td>Shirley Collins</td>\n",
       "      <td>82</td>\n",
       "      <td>2016</td>\n",
       "      <td>84</td>\n",
       "    </tr>\n",
       "    <tr>\n",
       "      <th>1397</th>\n",
       "      <td>Familiars</td>\n",
       "      <td>The Antlers</td>\n",
       "      <td>82</td>\n",
       "      <td>2014</td>\n",
       "      <td>82</td>\n",
       "    </tr>\n",
       "    <tr>\n",
       "      <th>1398</th>\n",
       "      <td>Running out of Love</td>\n",
       "      <td>The Radio Dept.</td>\n",
       "      <td>82</td>\n",
       "      <td>2016</td>\n",
       "      <td>73</td>\n",
       "    </tr>\n",
       "    <tr>\n",
       "      <th>1399</th>\n",
       "      <td>Field Report</td>\n",
       "      <td>Field Report</td>\n",
       "      <td>82</td>\n",
       "      <td>2012</td>\n",
       "      <td>75</td>\n",
       "    </tr>\n",
       "  </tbody>\n",
       "</table>\n",
       "<p>1380 rows × 5 columns</p>\n",
       "</div>"
      ],
      "text/plain": [
       "                         naslov             avtor  ocena_kritikov  leto  \\\n",
       "id                                                                        \n",
       "1           Ten Freedom Summers  Wadada Leo Smith              99  2012   \n",
       "2                         SMiLE     Brian Wilson               97  2004   \n",
       "3                 Van Lear Rose      Loretta Lynn              97  2004   \n",
       "4           To Pimp A Butterfly    Kendrick Lamar              96  2015   \n",
       "5     Histoire de Melody Nelson  Serge Gainsbourg              96  2009   \n",
       "6                     Stankonia           Outkast              95  2000   \n",
       "7                 Black Messiah          D'Angelo              95  2014   \n",
       "...                         ...               ...             ...   ...   \n",
       "1393       Wild Mountain Nation   Blitzen Trapper              82  2007   \n",
       "1394                   Parallax       Atlas Sound              82  2011   \n",
       "1395        Jet Plane And Oxbow        Shearwater              82  2016   \n",
       "1396                   Lodestar   Shirley Collins              82  2016   \n",
       "1397                  Familiars       The Antlers              82  2014   \n",
       "1398        Running out of Love   The Radio Dept.              82  2016   \n",
       "1399               Field Report      Field Report              82  2012   \n",
       "\n",
       "      ocena_ljudi  \n",
       "id                 \n",
       "1              50  \n",
       "2              80  \n",
       "3              87  \n",
       "4              90  \n",
       "5              87  \n",
       "6              89  \n",
       "7              87  \n",
       "...           ...  \n",
       "1393           83  \n",
       "1394           85  \n",
       "1395           76  \n",
       "1396           84  \n",
       "1397           82  \n",
       "1398           73  \n",
       "1399           75  \n",
       "\n",
       "[1380 rows x 5 columns]"
      ]
     },
     "execution_count": 5,
     "metadata": {},
     "output_type": "execute_result"
    }
   ],
   "source": [
    "albumi"
   ]
  },
  {
   "cell_type": "markdown",
   "metadata": {},
   "source": [
    "Svojim podatkom bom dodal še en stolpec 'razlika'. V njem bom izračunal razliko med oceno kritikov in poslušalcev. Na ta način bom kasneje lahko primerjal, pri katerih albumih je prišlo do največjih razlik. "
   ]
  },
  {
   "cell_type": "code",
   "execution_count": 3,
   "metadata": {
    "collapsed": false
   },
   "outputs": [
    {
     "data": {
      "text/html": [
       "<div>\n",
       "<table border=\"1\" class=\"dataframe\">\n",
       "  <thead>\n",
       "    <tr style=\"text-align: right;\">\n",
       "      <th></th>\n",
       "      <th>naslov</th>\n",
       "      <th>avtor</th>\n",
       "      <th>ocena_kritikov</th>\n",
       "      <th>leto</th>\n",
       "      <th>ocena_ljudi</th>\n",
       "      <th>razlika</th>\n",
       "    </tr>\n",
       "    <tr>\n",
       "      <th>id</th>\n",
       "      <th></th>\n",
       "      <th></th>\n",
       "      <th></th>\n",
       "      <th></th>\n",
       "      <th></th>\n",
       "      <th></th>\n",
       "    </tr>\n",
       "  </thead>\n",
       "  <tbody>\n",
       "    <tr>\n",
       "      <th>106</th>\n",
       "      <td>Upland Stories</td>\n",
       "      <td>Robbie Fulks</td>\n",
       "      <td>87</td>\n",
       "      <td>2016</td>\n",
       "      <td>37</td>\n",
       "      <td>50</td>\n",
       "    </tr>\n",
       "    <tr>\n",
       "      <th>1</th>\n",
       "      <td>Ten Freedom Summers</td>\n",
       "      <td>Wadada Leo Smith</td>\n",
       "      <td>99</td>\n",
       "      <td>2012</td>\n",
       "      <td>50</td>\n",
       "      <td>49</td>\n",
       "    </tr>\n",
       "    <tr>\n",
       "      <th>14</th>\n",
       "      <td>My Dusty Road</td>\n",
       "      <td>Woody Guthrie</td>\n",
       "      <td>93</td>\n",
       "      <td>2009</td>\n",
       "      <td>50</td>\n",
       "      <td>43</td>\n",
       "    </tr>\n",
       "    <tr>\n",
       "      <th>1217</th>\n",
       "      <td>The Narrows</td>\n",
       "      <td>Grant-Lee Philips</td>\n",
       "      <td>83</td>\n",
       "      <td>2016</td>\n",
       "      <td>40</td>\n",
       "      <td>43</td>\n",
       "    </tr>\n",
       "    <tr>\n",
       "      <th>60</th>\n",
       "      <td>The Fade in Time</td>\n",
       "      <td>Sam Lee</td>\n",
       "      <td>89</td>\n",
       "      <td>2015</td>\n",
       "      <td>51</td>\n",
       "      <td>38</td>\n",
       "    </tr>\n",
       "    <tr>\n",
       "      <th>74</th>\n",
       "      <td>From Kinshasa</td>\n",
       "      <td>Mbongwana Star</td>\n",
       "      <td>88</td>\n",
       "      <td>2015</td>\n",
       "      <td>52</td>\n",
       "      <td>36</td>\n",
       "    </tr>\n",
       "    <tr>\n",
       "      <th>258</th>\n",
       "      <td>Eric Bachmann</td>\n",
       "      <td>Eric Bachmann</td>\n",
       "      <td>81</td>\n",
       "      <td>2016</td>\n",
       "      <td>46</td>\n",
       "      <td>35</td>\n",
       "    </tr>\n",
       "    <tr>\n",
       "      <th>878</th>\n",
       "      <td>Without a Net</td>\n",
       "      <td>Wayne Shorter</td>\n",
       "      <td>86</td>\n",
       "      <td>2013</td>\n",
       "      <td>53</td>\n",
       "      <td>33</td>\n",
       "    </tr>\n",
       "    <tr>\n",
       "      <th>43</th>\n",
       "      <td>Jama Ko</td>\n",
       "      <td>Bassekou Kouyate &amp; Ngoni Ba</td>\n",
       "      <td>90</td>\n",
       "      <td>2013</td>\n",
       "      <td>60</td>\n",
       "      <td>30</td>\n",
       "    </tr>\n",
       "    <tr>\n",
       "      <th>1389</th>\n",
       "      <td>Love Songs, Pt. 2</td>\n",
       "      <td>Romare</td>\n",
       "      <td>82</td>\n",
       "      <td>2016</td>\n",
       "      <td>54</td>\n",
       "      <td>28</td>\n",
       "    </tr>\n",
       "    <tr>\n",
       "      <th>42</th>\n",
       "      <td>London Zoo</td>\n",
       "      <td>The Bug</td>\n",
       "      <td>90</td>\n",
       "      <td>2008</td>\n",
       "      <td>65</td>\n",
       "      <td>25</td>\n",
       "    </tr>\n",
       "    <tr>\n",
       "      <th>1270</th>\n",
       "      <td>Boy</td>\n",
       "      <td>Carla Bozulich</td>\n",
       "      <td>83</td>\n",
       "      <td>2014</td>\n",
       "      <td>58</td>\n",
       "      <td>25</td>\n",
       "    </tr>\n",
       "    <tr>\n",
       "      <th>130</th>\n",
       "      <td>You Will Never Be One of Us</td>\n",
       "      <td>NAILS</td>\n",
       "      <td>87</td>\n",
       "      <td>2016</td>\n",
       "      <td>63</td>\n",
       "      <td>24</td>\n",
       "    </tr>\n",
       "    <tr>\n",
       "      <th>17</th>\n",
       "      <td>Pull Up Some Dust and Sit Down</td>\n",
       "      <td>Ry Cooder</td>\n",
       "      <td>92</td>\n",
       "      <td>2011</td>\n",
       "      <td>68</td>\n",
       "      <td>24</td>\n",
       "    </tr>\n",
       "    <tr>\n",
       "      <th>775</th>\n",
       "      <td>In Prism</td>\n",
       "      <td>Polvo</td>\n",
       "      <td>79</td>\n",
       "      <td>2009</td>\n",
       "      <td>56</td>\n",
       "      <td>23</td>\n",
       "    </tr>\n",
       "  </tbody>\n",
       "</table>\n",
       "</div>"
      ],
      "text/plain": [
       "                              naslov                        avtor  \\\n",
       "id                                                                  \n",
       "106                   Upland Stories                 Robbie Fulks   \n",
       "1                Ten Freedom Summers             Wadada Leo Smith   \n",
       "14                     My Dusty Road                Woody Guthrie   \n",
       "1217                     The Narrows            Grant-Lee Philips   \n",
       "60                  The Fade in Time                      Sam Lee   \n",
       "74                     From Kinshasa               Mbongwana Star   \n",
       "258                    Eric Bachmann                Eric Bachmann   \n",
       "878                    Without a Net                Wayne Shorter   \n",
       "43                           Jama Ko  Bassekou Kouyate & Ngoni Ba   \n",
       "1389               Love Songs, Pt. 2                       Romare   \n",
       "42                        London Zoo                      The Bug   \n",
       "1270                             Boy               Carla Bozulich   \n",
       "130      You Will Never Be One of Us                        NAILS   \n",
       "17    Pull Up Some Dust and Sit Down                    Ry Cooder   \n",
       "775                         In Prism                        Polvo   \n",
       "\n",
       "      ocena_kritikov  leto  ocena_ljudi  razlika  \n",
       "id                                                \n",
       "106               87  2016           37       50  \n",
       "1                 99  2012           50       49  \n",
       "14                93  2009           50       43  \n",
       "1217              83  2016           40       43  \n",
       "60                89  2015           51       38  \n",
       "74                88  2015           52       36  \n",
       "258               81  2016           46       35  \n",
       "878               86  2013           53       33  \n",
       "43                90  2013           60       30  \n",
       "1389              82  2016           54       28  \n",
       "42                90  2008           65       25  \n",
       "1270              83  2014           58       25  \n",
       "130               87  2016           63       24  \n",
       "17                92  2011           68       24  \n",
       "775               79  2009           56       23  "
      ]
     },
     "execution_count": 3,
     "metadata": {},
     "output_type": "execute_result"
    }
   ],
   "source": [
    "albumi['razlika'] = albumi['ocena_kritikov'] - albumi['ocena_ljudi']\n",
    "albumi[abs(albumi.razlika) > 20].sort_values('razlika', ascending=False)[:15]"
   ]
  },
  {
   "cell_type": "markdown",
   "metadata": {
    "collapsed": false
   },
   "source": [
    "Sedaj lahko na hitro pogledamo koliko albumov so kritiki ocenili z višjo oceno kot poslušalci in kakšna je bila povprečna razlika obeh ocen. "
   ]
  },
  {
   "cell_type": "code",
   "execution_count": 12,
   "metadata": {
    "collapsed": false
   },
   "outputs": [
    {
     "data": {
      "text/plain": [
       "546"
      ]
     },
     "execution_count": 12,
     "metadata": {},
     "output_type": "execute_result"
    }
   ],
   "source": [
    "len(albumi[albumi.razlika > 0])"
   ]
  },
  {
   "cell_type": "code",
   "execution_count": 14,
   "metadata": {
    "collapsed": false
   },
   "outputs": [
    {
     "data": {
      "text/plain": [
       "5"
      ]
     },
     "execution_count": 14,
     "metadata": {},
     "output_type": "execute_result"
    }
   ],
   "source": [
    "sum(abs(albumi['razlika'])) / 1380"
   ]
  },
  {
   "cell_type": "markdown",
   "metadata": {},
   "source": [
    "Oglejmo si povprečno oceno poslušalcev po letih in prikažimo to v grafu."
   ]
  },
  {
   "cell_type": "code",
   "execution_count": 15,
   "metadata": {
    "collapsed": false
   },
   "outputs": [
    {
     "data": {
      "text/plain": [
       "<matplotlib.axes._subplots.AxesSubplot at 0xa796b00>"
      ]
     },
     "execution_count": 15,
     "metadata": {},
     "output_type": "execute_result"
    },
    {
     "data": {
      "image/png": "[encoded data removed]",
      "text/plain": [
       "<matplotlib.figure.Figure at 0xa9960f0>"
      ]
     },
     "metadata": {},
     "output_type": "display_data"
    }
   ],
   "source": [
    "albumi_po_letih = albumi.groupby('leto')\n",
    "albumi_po_letih['ocena_ljudi'].mean().plot()"
   ]
  },
  {
   "cell_type": "markdown",
   "metadata": {},
   "source": [
    "Da bomo preverili verodostojnost teh podatkov poglejmo še koliko albumov je bilo posnetih v posameznem letu. "
   ]
  },
  {
   "cell_type": "code",
   "execution_count": 30,
   "metadata": {
    "collapsed": false
   },
   "outputs": [
    {
     "data": {
      "text/plain": [
       "<matplotlib.axes._subplots.AxesSubplot at 0xaf3d630>"
      ]
     },
     "execution_count": 30,
     "metadata": {},
     "output_type": "execute_result"
    },
    {
     "data": {
      "image/png": "[encoded data removed]",
      "text/plain": [
       "<matplotlib.figure.Figure at 0xae497b8>"
      ]
     },
     "metadata": {},
     "output_type": "display_data"
    }
   ],
   "source": [
    "albumi_po_letih.count()['naslov'].plot(kind='bar')"
   ]
  },
  {
   "cell_type": "markdown",
   "metadata": {},
   "source": [
    "Iz zgornjega grafa vidimo, da je lahko visoka ocena albumov iz začetka tisočletja povezana tudi s tem, da je v zajeti bazi podatkov majhno število albumov iz tega obdobja."
   ]
  },
  {
   "cell_type": "markdown",
   "metadata": {},
   "source": [
    "Oglejmo si najbolj popularne avtorje (tiste z največ albumi v naši podatkovni bazi)."
   ]
  },
  {
   "cell_type": "code",
   "execution_count": 44,
   "metadata": {
    "collapsed": false
   },
   "outputs": [
    {
     "data": {
      "text/plain": [
       "avtor\n",
       "Spoon                          6\n",
       "Low                            6\n",
       "Sleater-Kinney                 5\n",
       "Nas                            5\n",
       "Various Artists                5\n",
       "Bob Dylan                      5\n",
       "Kanye West                     4\n",
       "Sufjan Stevens                 4\n",
       "Mount Eerie                    4\n",
       "LCD Soundsystem                4\n",
       "Thee Oh Sees                   4\n",
       "Miranda Lambert                4\n",
       "Godspeed You! Black Emperor    4\n",
       "Elbow                          4\n",
       "The Dillinger Escape Plan      4\n",
       "Name: naslov, dtype: int64"
      ]
     },
     "execution_count": 44,
     "metadata": {},
     "output_type": "execute_result"
    }
   ],
   "source": [
    "albumi_po_avtorjih = albumi.groupby('avtor')\n",
    "albumi_po_avtorjih.count()['naslov'].sort_values(ascending=False)[:15]"
   ]
  },
  {
   "cell_type": "markdown",
   "metadata": {
    "collapsed": true
   },
   "source": [
    "Za lažjo analizo podatkov na podlagi žanrov sem si pripravil pomožno tabelo."
   ]
  },
  {
   "cell_type": "code",
   "execution_count": 6,
   "metadata": {
    "collapsed": false
   },
   "outputs": [
    {
     "data": {
      "text/html": [
       "<div>\n",
       "<table border=\"1\" class=\"dataframe\">\n",
       "  <thead>\n",
       "    <tr style=\"text-align: right;\">\n",
       "      <th></th>\n",
       "      <th>id</th>\n",
       "      <th>zanr</th>\n",
       "    </tr>\n",
       "  </thead>\n",
       "  <tbody>\n",
       "    <tr>\n",
       "      <th>0</th>\n",
       "      <td>1</td>\n",
       "      <td>Jazz</td>\n",
       "    </tr>\n",
       "    <tr>\n",
       "      <th>1</th>\n",
       "      <td>2</td>\n",
       "      <td>Rock</td>\n",
       "    </tr>\n",
       "    <tr>\n",
       "      <th>2</th>\n",
       "      <td>2</td>\n",
       "      <td>Pop</td>\n",
       "    </tr>\n",
       "    <tr>\n",
       "      <th>3</th>\n",
       "      <td>3</td>\n",
       "      <td>Country</td>\n",
       "    </tr>\n",
       "    <tr>\n",
       "      <th>4</th>\n",
       "      <td>4</td>\n",
       "      <td>Rap</td>\n",
       "    </tr>\n",
       "    <tr>\n",
       "      <th>5</th>\n",
       "      <td>5</td>\n",
       "      <td>Rock</td>\n",
       "    </tr>\n",
       "    <tr>\n",
       "      <th>6</th>\n",
       "      <td>5</td>\n",
       "      <td>Pop</td>\n",
       "    </tr>\n",
       "    <tr>\n",
       "      <th>...</th>\n",
       "      <td>...</td>\n",
       "      <td>...</td>\n",
       "    </tr>\n",
       "    <tr>\n",
       "      <th>4099</th>\n",
       "      <td>1399</td>\n",
       "      <td>Indie</td>\n",
       "    </tr>\n",
       "    <tr>\n",
       "      <th>4100</th>\n",
       "      <td>1399</td>\n",
       "      <td>Rock</td>\n",
       "    </tr>\n",
       "    <tr>\n",
       "      <th>4101</th>\n",
       "      <td>1399</td>\n",
       "      <td>Alternative</td>\n",
       "    </tr>\n",
       "    <tr>\n",
       "      <th>4102</th>\n",
       "      <td>1399</td>\n",
       "      <td>...</td>\n",
       "    </tr>\n",
       "    <tr>\n",
       "      <th>4103</th>\n",
       "      <td>1400</td>\n",
       "      <td>Pop/Rock</td>\n",
       "    </tr>\n",
       "    <tr>\n",
       "      <th>4104</th>\n",
       "      <td>1400</td>\n",
       "      <td>Alternative/Indie</td>\n",
       "    </tr>\n",
       "    <tr>\n",
       "      <th>4105</th>\n",
       "      <td>1400</td>\n",
       "      <td>Rock</td>\n",
       "    </tr>\n",
       "  </tbody>\n",
       "</table>\n",
       "<p>4106 rows × 2 columns</p>\n",
       "</div>"
      ],
      "text/plain": [
       "        id               zanr\n",
       "0        1               Jazz\n",
       "1        2               Rock\n",
       "2        2                Pop\n",
       "3        3            Country\n",
       "4        4                Rap\n",
       "5        5               Rock\n",
       "6        5                Pop\n",
       "...    ...                ...\n",
       "4099  1399              Indie\n",
       "4100  1399               Rock\n",
       "4101  1399        Alternative\n",
       "4102  1399                ...\n",
       "4103  1400           Pop/Rock\n",
       "4104  1400  Alternative/Indie\n",
       "4105  1400               Rock\n",
       "\n",
       "[4106 rows x 2 columns]"
      ]
     },
     "execution_count": 6,
     "metadata": {},
     "output_type": "execute_result"
    }
   ],
   "source": [
    "zanri"
   ]
  },
  {
   "cell_type": "markdown",
   "metadata": {},
   "source": [
    "Sedaj obe tabeli staknem..."
   ]
  },
  {
   "cell_type": "code",
   "execution_count": 8,
   "metadata": {
    "collapsed": false
   },
   "outputs": [
    {
     "data": {
      "text/html": [
       "<div>\n",
       "<table border=\"1\" class=\"dataframe\">\n",
       "  <thead>\n",
       "    <tr style=\"text-align: right;\">\n",
       "      <th></th>\n",
       "      <th>id</th>\n",
       "      <th>zanr</th>\n",
       "      <th>naslov</th>\n",
       "      <th>avtor</th>\n",
       "      <th>ocena_kritikov</th>\n",
       "      <th>leto</th>\n",
       "      <th>ocena_ljudi</th>\n",
       "    </tr>\n",
       "  </thead>\n",
       "  <tbody>\n",
       "    <tr>\n",
       "      <th>0</th>\n",
       "      <td>1</td>\n",
       "      <td>Jazz</td>\n",
       "      <td>Ten Freedom Summers</td>\n",
       "      <td>Wadada Leo Smith</td>\n",
       "      <td>99</td>\n",
       "      <td>2012</td>\n",
       "      <td>50</td>\n",
       "    </tr>\n",
       "    <tr>\n",
       "      <th>1</th>\n",
       "      <td>2</td>\n",
       "      <td>Rock</td>\n",
       "      <td>SMiLE</td>\n",
       "      <td>Brian Wilson</td>\n",
       "      <td>97</td>\n",
       "      <td>2004</td>\n",
       "      <td>80</td>\n",
       "    </tr>\n",
       "    <tr>\n",
       "      <th>2</th>\n",
       "      <td>2</td>\n",
       "      <td>Pop</td>\n",
       "      <td>SMiLE</td>\n",
       "      <td>Brian Wilson</td>\n",
       "      <td>97</td>\n",
       "      <td>2004</td>\n",
       "      <td>80</td>\n",
       "    </tr>\n",
       "    <tr>\n",
       "      <th>3</th>\n",
       "      <td>3</td>\n",
       "      <td>Country</td>\n",
       "      <td>Van Lear Rose</td>\n",
       "      <td>Loretta Lynn</td>\n",
       "      <td>97</td>\n",
       "      <td>2004</td>\n",
       "      <td>87</td>\n",
       "    </tr>\n",
       "    <tr>\n",
       "      <th>4</th>\n",
       "      <td>4</td>\n",
       "      <td>Rap</td>\n",
       "      <td>To Pimp A Butterfly</td>\n",
       "      <td>Kendrick Lamar</td>\n",
       "      <td>96</td>\n",
       "      <td>2015</td>\n",
       "      <td>90</td>\n",
       "    </tr>\n",
       "    <tr>\n",
       "      <th>5</th>\n",
       "      <td>5</td>\n",
       "      <td>Rock</td>\n",
       "      <td>Histoire de Melody Nelson</td>\n",
       "      <td>Serge Gainsbourg</td>\n",
       "      <td>96</td>\n",
       "      <td>2009</td>\n",
       "      <td>87</td>\n",
       "    </tr>\n",
       "    <tr>\n",
       "      <th>6</th>\n",
       "      <td>5</td>\n",
       "      <td>Pop</td>\n",
       "      <td>Histoire de Melody Nelson</td>\n",
       "      <td>Serge Gainsbourg</td>\n",
       "      <td>96</td>\n",
       "      <td>2009</td>\n",
       "      <td>87</td>\n",
       "    </tr>\n",
       "    <tr>\n",
       "      <th>...</th>\n",
       "      <td>...</td>\n",
       "      <td>...</td>\n",
       "      <td>...</td>\n",
       "      <td>...</td>\n",
       "      <td>...</td>\n",
       "      <td>...</td>\n",
       "      <td>...</td>\n",
       "    </tr>\n",
       "    <tr>\n",
       "      <th>4030</th>\n",
       "      <td>1398</td>\n",
       "      <td>...</td>\n",
       "      <td>Running out of Love</td>\n",
       "      <td>The Radio Dept.</td>\n",
       "      <td>82</td>\n",
       "      <td>2016</td>\n",
       "      <td>73</td>\n",
       "    </tr>\n",
       "    <tr>\n",
       "      <th>4031</th>\n",
       "      <td>1399</td>\n",
       "      <td>Alternative/Indie</td>\n",
       "      <td>Field Report</td>\n",
       "      <td>Field Report</td>\n",
       "      <td>82</td>\n",
       "      <td>2012</td>\n",
       "      <td>75</td>\n",
       "    </tr>\n",
       "    <tr>\n",
       "      <th>4032</th>\n",
       "      <td>1399</td>\n",
       "      <td>Rock</td>\n",
       "      <td>Field Report</td>\n",
       "      <td>Field Report</td>\n",
       "      <td>82</td>\n",
       "      <td>2012</td>\n",
       "      <td>75</td>\n",
       "    </tr>\n",
       "    <tr>\n",
       "      <th>4033</th>\n",
       "      <td>1399</td>\n",
       "      <td>Indie</td>\n",
       "      <td>Field Report</td>\n",
       "      <td>Field Report</td>\n",
       "      <td>82</td>\n",
       "      <td>2012</td>\n",
       "      <td>75</td>\n",
       "    </tr>\n",
       "    <tr>\n",
       "      <th>4034</th>\n",
       "      <td>1399</td>\n",
       "      <td>Rock</td>\n",
       "      <td>Field Report</td>\n",
       "      <td>Field Report</td>\n",
       "      <td>82</td>\n",
       "      <td>2012</td>\n",
       "      <td>75</td>\n",
       "    </tr>\n",
       "    <tr>\n",
       "      <th>4035</th>\n",
       "      <td>1399</td>\n",
       "      <td>Alternative</td>\n",
       "      <td>Field Report</td>\n",
       "      <td>Field Report</td>\n",
       "      <td>82</td>\n",
       "      <td>2012</td>\n",
       "      <td>75</td>\n",
       "    </tr>\n",
       "    <tr>\n",
       "      <th>4036</th>\n",
       "      <td>1399</td>\n",
       "      <td>...</td>\n",
       "      <td>Field Report</td>\n",
       "      <td>Field Report</td>\n",
       "      <td>82</td>\n",
       "      <td>2012</td>\n",
       "      <td>75</td>\n",
       "    </tr>\n",
       "  </tbody>\n",
       "</table>\n",
       "<p>4037 rows × 7 columns</p>\n",
       "</div>"
      ],
      "text/plain": [
       "        id               zanr                     naslov             avtor  \\\n",
       "0        1               Jazz        Ten Freedom Summers  Wadada Leo Smith   \n",
       "1        2               Rock                      SMiLE     Brian Wilson    \n",
       "2        2                Pop                      SMiLE     Brian Wilson    \n",
       "3        3            Country              Van Lear Rose      Loretta Lynn   \n",
       "4        4                Rap        To Pimp A Butterfly    Kendrick Lamar   \n",
       "5        5               Rock  Histoire de Melody Nelson  Serge Gainsbourg   \n",
       "6        5                Pop  Histoire de Melody Nelson  Serge Gainsbourg   \n",
       "...    ...                ...                        ...               ...   \n",
       "4030  1398                ...        Running out of Love   The Radio Dept.   \n",
       "4031  1399  Alternative/Indie               Field Report      Field Report   \n",
       "4032  1399               Rock               Field Report      Field Report   \n",
       "4033  1399              Indie               Field Report      Field Report   \n",
       "4034  1399               Rock               Field Report      Field Report   \n",
       "4035  1399        Alternative               Field Report      Field Report   \n",
       "4036  1399                ...               Field Report      Field Report   \n",
       "\n",
       "      ocena_kritikov  leto  ocena_ljudi  \n",
       "0                 99  2012           50  \n",
       "1                 97  2004           80  \n",
       "2                 97  2004           80  \n",
       "3                 97  2004           87  \n",
       "4                 96  2015           90  \n",
       "5                 96  2009           87  \n",
       "6                 96  2009           87  \n",
       "...              ...   ...          ...  \n",
       "4030              82  2016           73  \n",
       "4031              82  2012           75  \n",
       "4032              82  2012           75  \n",
       "4033              82  2012           75  \n",
       "4034              82  2012           75  \n",
       "4035              82  2012           75  \n",
       "4036              82  2012           75  \n",
       "\n",
       "[4037 rows x 7 columns]"
      ]
     },
     "execution_count": 8,
     "metadata": {},
     "output_type": "execute_result"
    }
   ],
   "source": [
    "zanri_ocene = pd.merge(zanri, albumi.reset_index(), left_on='id', right_on='id')\n",
    "zanri_ocene"
   ]
  },
  {
   "cell_type": "markdown",
   "metadata": {},
   "source": [
    "Najbolj pogosto zastopani žanri so prikazani spodaj."
   ]
  },
  {
   "cell_type": "code",
   "execution_count": 31,
   "metadata": {
    "collapsed": false
   },
   "outputs": [
    {
     "data": {
      "text/plain": [
       "zanr\n",
       "Rock                 849\n",
       "Pop/Rock             631\n",
       "Indie                381\n",
       "Alternative/Indie    309\n",
       "...                  299\n",
       "Alternative          269\n",
       "Electronic           198\n",
       "Rap                  137\n",
       "R&B                   83\n",
       "Folk                  72\n",
       "Country               71\n",
       "Pop                   69\n",
       "Metal                 62\n",
       "Experimental          56\n",
       "Jazz                  38\n",
       "Name: id, dtype: int64"
      ]
     },
     "execution_count": 31,
     "metadata": {},
     "output_type": "execute_result"
    }
   ],
   "source": [
    "zanri_ocene.groupby('zanr').count().sort_values('id', ascending=False)['id'][:15]\n"
   ]
  },
  {
   "cell_type": "markdown",
   "metadata": {},
   "source": [
    "Tu pa so še najbolje ocenjeni žanri (po ocenah kritikov). Zaradi velikega nabora različnih žanrov sem upošteval le tiste z več kot 10 pojavitvami."
   ]
  },
  {
   "cell_type": "code",
   "execution_count": 41,
   "metadata": {
    "collapsed": false
   },
   "outputs": [
    {
     "data": {
      "text/plain": [
       "zanr\n",
       "Soul            84.000000\n",
       "Contemporary    83.642857\n",
       "Alt-Country     83.600000\n",
       "Pop             83.565217\n",
       "Country         83.521127\n",
       "Dance           83.400000\n",
       "Rap             83.226277\n",
       "R&B             83.132530\n",
       "Avant-Garde     83.058824\n",
       "Folk            83.041667\n",
       "Heavy           83.035714\n",
       "Jazz            82.973684\n",
       "Electronic      82.742424\n",
       "Americana       82.714286\n",
       "Metal           82.661290\n",
       "Name: ocena_kritikov, dtype: float64"
      ]
     },
     "execution_count": 41,
     "metadata": {},
     "output_type": "execute_result"
    }
   ],
   "source": [
    "povprecje = zanri_ocene.groupby('zanr').mean()['ocena_kritikov'].to_frame()\n",
    "pogostost = zanri_ocene.groupby('zanr').count()['id'].to_frame()\n",
    "\n",
    "pomozni = pd.merge(povprecje.reset_index(), pogostost.reset_index(), left_on='zanr', right_on='zanr')\n",
    "pomozni = pomozni.set_index('zanr')\n",
    "pomozni[pomozni.id > 10].sort_values('ocena_kritikov', ascending=False)['ocena_kritikov'][:15]"
   ]
  },
  {
   "cell_type": "markdown",
   "metadata": {},
   "source": [
    "Na koncu sem pripravil še funkcijo, s pomočjo katere lahko uporabnik analizira glasbene trende od leta 1999 naprej, tj. funkcija vrne najbolj pogosto zastopane žanre v posameznem letu."
   ]
  },
  {
   "cell_type": "code",
   "execution_count": 68,
   "metadata": {
    "collapsed": true
   },
   "outputs": [],
   "source": [
    "def najbolj_pogosti(letnica, stevilo=3):\n",
    "    if letnica < 1999 or letnica > 2017:\n",
    "        return 'Podatki niso na voljo'\n",
    "    return zanri_ocene[zanri_ocene.leto == letnica].groupby('zanr').count().sort_values('id', ascending=False)['id'][:stevilo]"
   ]
  },
  {
   "cell_type": "code",
   "execution_count": 77,
   "metadata": {
    "collapsed": false
   },
   "outputs": [
    {
     "data": {
      "text/plain": [
       "zanr\n",
       "Pop/Rock             115\n",
       "Rock                  67\n",
       "Alternative/Indie     53\n",
       "Name: id, dtype: int64"
      ]
     },
     "execution_count": 77,
     "metadata": {},
     "output_type": "execute_result"
    }
   ],
   "source": [
    "najbolj_pogosti(2016)"
   ]
  }
 ],
 "metadata": {
  "kernelspec": {
   "display_name": "Python 2",
   "language": "python",
   "name": "python2"
  },
  "language_info": {
   "codemirror_mode": {
    "name": "ipython",
    "version": 2
   },
   "file_extension": ".py",
   "mimetype": "text/x-python",
   "name": "python",
   "nbconvert_exporter": "python",
   "pygments_lexer": "ipython2",
   "version": "2.7.11"
  }
 },
 "nbformat": 4,
 "nbformat_minor": 0
}
